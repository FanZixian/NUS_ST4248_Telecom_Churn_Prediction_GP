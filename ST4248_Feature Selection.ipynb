{
 "cells": [
  {
   "cell_type": "code",
   "execution_count": null,
   "metadata": {},
   "outputs": [],
   "source": [
    "from boruta import BorutaPy\n",
    "from sklearn.ensemble import RandomForestClassifier\n",
    "\n",
    "# Define the random forest classifier\n",
    "rf = RandomForestClassifier(n_jobs=-1, class_weight='balanced', max_depth=5)\n",
    "\n",
    "# Define the Boruta feature selection algorithm\n",
    "boruta_selector = BorutaPy(rf, n_estimators='auto', verbose=2, random_state=101)\n",
    "\n",
    "# Fit the Boruta selector to the training data\n",
    "boruta_selector.fit(X_train.values, Y_train.values)\n",
    "\n",
    "# Get the selected features from the Boruta selector\n",
    "selected_features = X_train.columns[boruta_selector.support_]\n",
    "\n",
    "# Select the features in the training and testing data\n",
    "X_train_boruta = X_train[selected_features]\n",
    "X_test_boruta = X_test[selected_features]\n",
    "\n",
    "# Save the selected features to CSV files\n",
    "X_train_boruta.to_csv(path + \"Original/X_train_boruta.csv\")\n",
    "X_test_boruta.to_csv(path + \"Output/X_test_boruta.csv\")\n",
    "\n",
    "# Visualize the feature importance scores from the Boruta selector\n",
    "importance_scores = pd.Series(boruta_selector.ranking_, index=X_train.columns)\n",
    "importance_scores[selected_features] = 1\n",
    "importance_scores.sort_values(ascending=False, inplace=True)\n",
    "importance_scores.plot.bar(figsize=(12,8))"
   ]
  }
 ],
 "metadata": {
  "kernelspec": {
   "display_name": "pt-gpu",
   "language": "python",
   "name": "python3"
  },
  "language_info": {
   "codemirror_mode": {
    "name": "ipython",
    "version": 3
   },
   "file_extension": ".py",
   "mimetype": "text/x-python",
   "name": "python",
   "nbconvert_exporter": "python",
   "pygments_lexer": "ipython3",
   "version": "3.8.16"
  },
  "orig_nbformat": 4
 },
 "nbformat": 4,
 "nbformat_minor": 2
}
